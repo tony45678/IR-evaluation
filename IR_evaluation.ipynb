{
  "nbformat": 4,
  "nbformat_minor": 0,
  "metadata": {
    "colab": {
      "name": "IR evaluation.ipynb",
      "provenance": [],
      "collapsed_sections": [],
      "toc_visible": true,
      "authorship_tag": "ABX9TyOtr3eJHXGtceejnTm0o7uF",
      "include_colab_link": true
    },
    "kernelspec": {
      "name": "python3",
      "display_name": "Python 3"
    }
  },
  "cells": [
    {
      "cell_type": "markdown",
      "metadata": {
        "id": "view-in-github",
        "colab_type": "text"
      },
      "source": [
        "<a href=\"https://colab.research.google.com/github/tony45678/IR-evaluation/blob/master/IR_evaluation.ipynb\" target=\"_parent\"><img src=\"https://colab.research.google.com/assets/colab-badge.svg\" alt=\"Open In Colab\"/></a>"
      ]
    },
    {
      "cell_type": "markdown",
      "metadata": {
        "id": "67WOxHoldk8f",
        "colab_type": "text"
      },
      "source": [
        "# Precision & Recall\n",
        "\n",
        "\n",
        "*   Precision : fraction of retrieved docs that are relevant \n",
        "                - reflects the ability to retrieve top-ranked\n",
        "                  documents that are mostly relevant. \n",
        "                - Precision = tp / (tp +fp)\n",
        "*   Recall : fraction of relevant docs that are retrieved\n",
        "                - reflects the ability of the search to find \n",
        "                  all of the relevant items in the corpus.\n",
        "                - Recall = tp / (tp+fn)\n",
        "\n"
      ]
    },
    {
      "cell_type": "markdown",
      "metadata": {
        "id": "y32peLjnlCAq",
        "colab_type": "text"
      },
      "source": [
        "# Import Libary"
      ]
    },
    {
      "cell_type": "code",
      "metadata": {
        "id": "V4nyEvI2dNmx",
        "colab_type": "code",
        "colab": {}
      },
      "source": [
        "import pandas as pd\n",
        "import numpy as np "
      ],
      "execution_count": 0,
      "outputs": []
    },
    {
      "cell_type": "code",
      "metadata": {
        "id": "6JfebFqFpBnQ",
        "colab_type": "code",
        "outputId": "3e7afc84-3442-435a-9a4c-f59ffad6ed84",
        "colab": {
          "base_uri": "https://localhost:8080/",
          "height": 669
        }
      },
      "source": [
        "data = pd.read_csv(\"dataset.csv\") # 1.txt to 10.txt chritopher nolan's movies, 11.txt to 20.txt james Cameron's movies\n",
        "df= pd.DataFrame(data)\n",
        "df.columns =[\"Script\",\"Fuck\",\"Shit\",\"Dick\",\"Asshole\",\"Bastard\",\"Bitch\",\"Damn\",\"Cunt\",\"Bollocks\",\"Bugger\",\"Bloody hell\",\"Choad\",\"Crikey\",\"Rubbish\",\"Shag\",\"Wanker\",\"Twawt\"]\n",
        "df"
      ],
      "execution_count": 185,
      "outputs": [
        {
          "output_type": "execute_result",
          "data": {
            "text/html": [
              "<div>\n",
              "<style scoped>\n",
              "    .dataframe tbody tr th:only-of-type {\n",
              "        vertical-align: middle;\n",
              "    }\n",
              "\n",
              "    .dataframe tbody tr th {\n",
              "        vertical-align: top;\n",
              "    }\n",
              "\n",
              "    .dataframe thead th {\n",
              "        text-align: right;\n",
              "    }\n",
              "</style>\n",
              "<table border=\"1\" class=\"dataframe\">\n",
              "  <thead>\n",
              "    <tr style=\"text-align: right;\">\n",
              "      <th></th>\n",
              "      <th>Script</th>\n",
              "      <th>Fuck</th>\n",
              "      <th>Shit</th>\n",
              "      <th>Dick</th>\n",
              "      <th>Asshole</th>\n",
              "      <th>Bastard</th>\n",
              "      <th>Bitch</th>\n",
              "      <th>Damn</th>\n",
              "      <th>Cunt</th>\n",
              "      <th>Bollocks</th>\n",
              "      <th>Bugger</th>\n",
              "      <th>Bloody hell</th>\n",
              "      <th>Choad</th>\n",
              "      <th>Crikey</th>\n",
              "      <th>Rubbish</th>\n",
              "      <th>Shag</th>\n",
              "      <th>Wanker</th>\n",
              "      <th>Twawt</th>\n",
              "    </tr>\n",
              "  </thead>\n",
              "  <tbody>\n",
              "    <tr>\n",
              "      <th>0</th>\n",
              "      <td>1.txt</td>\n",
              "      <td>1</td>\n",
              "      <td>1</td>\n",
              "      <td>0</td>\n",
              "      <td>0</td>\n",
              "      <td>1</td>\n",
              "      <td>0</td>\n",
              "      <td>0</td>\n",
              "      <td>1</td>\n",
              "      <td>0</td>\n",
              "      <td>0</td>\n",
              "      <td>0</td>\n",
              "      <td>0</td>\n",
              "      <td>0</td>\n",
              "      <td>0</td>\n",
              "      <td>0</td>\n",
              "      <td>0</td>\n",
              "      <td>1</td>\n",
              "    </tr>\n",
              "    <tr>\n",
              "      <th>1</th>\n",
              "      <td>2.txt</td>\n",
              "      <td>1</td>\n",
              "      <td>1</td>\n",
              "      <td>0</td>\n",
              "      <td>0</td>\n",
              "      <td>0</td>\n",
              "      <td>0</td>\n",
              "      <td>0</td>\n",
              "      <td>1</td>\n",
              "      <td>0</td>\n",
              "      <td>0</td>\n",
              "      <td>1</td>\n",
              "      <td>0</td>\n",
              "      <td>0</td>\n",
              "      <td>0</td>\n",
              "      <td>0</td>\n",
              "      <td>0</td>\n",
              "      <td>0</td>\n",
              "    </tr>\n",
              "    <tr>\n",
              "      <th>2</th>\n",
              "      <td>3.txt</td>\n",
              "      <td>1</td>\n",
              "      <td>1</td>\n",
              "      <td>0</td>\n",
              "      <td>1</td>\n",
              "      <td>1</td>\n",
              "      <td>1</td>\n",
              "      <td>0</td>\n",
              "      <td>0</td>\n",
              "      <td>0</td>\n",
              "      <td>0</td>\n",
              "      <td>1</td>\n",
              "      <td>0</td>\n",
              "      <td>0</td>\n",
              "      <td>0</td>\n",
              "      <td>1</td>\n",
              "      <td>0</td>\n",
              "      <td>0</td>\n",
              "    </tr>\n",
              "    <tr>\n",
              "      <th>3</th>\n",
              "      <td>4.txt</td>\n",
              "      <td>0</td>\n",
              "      <td>0</td>\n",
              "      <td>0</td>\n",
              "      <td>1</td>\n",
              "      <td>0</td>\n",
              "      <td>0</td>\n",
              "      <td>1</td>\n",
              "      <td>0</td>\n",
              "      <td>0</td>\n",
              "      <td>0</td>\n",
              "      <td>0</td>\n",
              "      <td>0</td>\n",
              "      <td>0</td>\n",
              "      <td>0</td>\n",
              "      <td>0</td>\n",
              "      <td>0</td>\n",
              "      <td>0</td>\n",
              "    </tr>\n",
              "    <tr>\n",
              "      <th>4</th>\n",
              "      <td>5.txt</td>\n",
              "      <td>0</td>\n",
              "      <td>0</td>\n",
              "      <td>0</td>\n",
              "      <td>0</td>\n",
              "      <td>0</td>\n",
              "      <td>0</td>\n",
              "      <td>1</td>\n",
              "      <td>0</td>\n",
              "      <td>0</td>\n",
              "      <td>0</td>\n",
              "      <td>0</td>\n",
              "      <td>0</td>\n",
              "      <td>0</td>\n",
              "      <td>0</td>\n",
              "      <td>0</td>\n",
              "      <td>0</td>\n",
              "      <td>0</td>\n",
              "    </tr>\n",
              "    <tr>\n",
              "      <th>5</th>\n",
              "      <td>6.txt</td>\n",
              "      <td>0</td>\n",
              "      <td>0</td>\n",
              "      <td>0</td>\n",
              "      <td>0</td>\n",
              "      <td>0</td>\n",
              "      <td>1</td>\n",
              "      <td>1</td>\n",
              "      <td>0</td>\n",
              "      <td>0</td>\n",
              "      <td>0</td>\n",
              "      <td>1</td>\n",
              "      <td>0</td>\n",
              "      <td>0</td>\n",
              "      <td>0</td>\n",
              "      <td>0</td>\n",
              "      <td>0</td>\n",
              "      <td>0</td>\n",
              "    </tr>\n",
              "    <tr>\n",
              "      <th>6</th>\n",
              "      <td>7.txt</td>\n",
              "      <td>0</td>\n",
              "      <td>0</td>\n",
              "      <td>0</td>\n",
              "      <td>0</td>\n",
              "      <td>0</td>\n",
              "      <td>0</td>\n",
              "      <td>0</td>\n",
              "      <td>0</td>\n",
              "      <td>0</td>\n",
              "      <td>0</td>\n",
              "      <td>0</td>\n",
              "      <td>0</td>\n",
              "      <td>0</td>\n",
              "      <td>0</td>\n",
              "      <td>0</td>\n",
              "      <td>0</td>\n",
              "      <td>0</td>\n",
              "    </tr>\n",
              "    <tr>\n",
              "      <th>7</th>\n",
              "      <td>8.txt</td>\n",
              "      <td>0</td>\n",
              "      <td>0</td>\n",
              "      <td>0</td>\n",
              "      <td>0</td>\n",
              "      <td>0</td>\n",
              "      <td>0</td>\n",
              "      <td>1</td>\n",
              "      <td>0</td>\n",
              "      <td>0</td>\n",
              "      <td>0</td>\n",
              "      <td>1</td>\n",
              "      <td>0</td>\n",
              "      <td>0</td>\n",
              "      <td>0</td>\n",
              "      <td>0</td>\n",
              "      <td>0</td>\n",
              "      <td>0</td>\n",
              "    </tr>\n",
              "    <tr>\n",
              "      <th>8</th>\n",
              "      <td>9.txt</td>\n",
              "      <td>0</td>\n",
              "      <td>0</td>\n",
              "      <td>0</td>\n",
              "      <td>0</td>\n",
              "      <td>0</td>\n",
              "      <td>0</td>\n",
              "      <td>1</td>\n",
              "      <td>0</td>\n",
              "      <td>0</td>\n",
              "      <td>0</td>\n",
              "      <td>1</td>\n",
              "      <td>0</td>\n",
              "      <td>0</td>\n",
              "      <td>0</td>\n",
              "      <td>0</td>\n",
              "      <td>0</td>\n",
              "      <td>0</td>\n",
              "    </tr>\n",
              "    <tr>\n",
              "      <th>9</th>\n",
              "      <td>10.txt</td>\n",
              "      <td>1</td>\n",
              "      <td>1</td>\n",
              "      <td>0</td>\n",
              "      <td>0</td>\n",
              "      <td>0</td>\n",
              "      <td>0</td>\n",
              "      <td>0</td>\n",
              "      <td>0</td>\n",
              "      <td>0</td>\n",
              "      <td>0</td>\n",
              "      <td>1</td>\n",
              "      <td>0</td>\n",
              "      <td>0</td>\n",
              "      <td>1</td>\n",
              "      <td>0</td>\n",
              "      <td>0</td>\n",
              "      <td>0</td>\n",
              "    </tr>\n",
              "    <tr>\n",
              "      <th>10</th>\n",
              "      <td>11.txt</td>\n",
              "      <td>0</td>\n",
              "      <td>1</td>\n",
              "      <td>0</td>\n",
              "      <td>1</td>\n",
              "      <td>0</td>\n",
              "      <td>1</td>\n",
              "      <td>1</td>\n",
              "      <td>0</td>\n",
              "      <td>0</td>\n",
              "      <td>0</td>\n",
              "      <td>1</td>\n",
              "      <td>0</td>\n",
              "      <td>0</td>\n",
              "      <td>0</td>\n",
              "      <td>0</td>\n",
              "      <td>0</td>\n",
              "      <td>0</td>\n",
              "    </tr>\n",
              "    <tr>\n",
              "      <th>11</th>\n",
              "      <td>12.txt</td>\n",
              "      <td>1</td>\n",
              "      <td>1</td>\n",
              "      <td>0</td>\n",
              "      <td>1</td>\n",
              "      <td>1</td>\n",
              "      <td>0</td>\n",
              "      <td>1</td>\n",
              "      <td>0</td>\n",
              "      <td>0</td>\n",
              "      <td>0</td>\n",
              "      <td>0</td>\n",
              "      <td>0</td>\n",
              "      <td>0</td>\n",
              "      <td>0</td>\n",
              "      <td>0</td>\n",
              "      <td>0</td>\n",
              "      <td>0</td>\n",
              "    </tr>\n",
              "    <tr>\n",
              "      <th>12</th>\n",
              "      <td>13.txt</td>\n",
              "      <td>1</td>\n",
              "      <td>1</td>\n",
              "      <td>0</td>\n",
              "      <td>1</td>\n",
              "      <td>1</td>\n",
              "      <td>1</td>\n",
              "      <td>1</td>\n",
              "      <td>0</td>\n",
              "      <td>0</td>\n",
              "      <td>0</td>\n",
              "      <td>0</td>\n",
              "      <td>0</td>\n",
              "      <td>0</td>\n",
              "      <td>0</td>\n",
              "      <td>1</td>\n",
              "      <td>0</td>\n",
              "      <td>0</td>\n",
              "    </tr>\n",
              "    <tr>\n",
              "      <th>13</th>\n",
              "      <td>14.txt</td>\n",
              "      <td>0</td>\n",
              "      <td>1</td>\n",
              "      <td>1</td>\n",
              "      <td>0</td>\n",
              "      <td>0</td>\n",
              "      <td>1</td>\n",
              "      <td>1</td>\n",
              "      <td>0</td>\n",
              "      <td>0</td>\n",
              "      <td>0</td>\n",
              "      <td>0</td>\n",
              "      <td>0</td>\n",
              "      <td>0</td>\n",
              "      <td>0</td>\n",
              "      <td>0</td>\n",
              "      <td>0</td>\n",
              "      <td>0</td>\n",
              "    </tr>\n",
              "    <tr>\n",
              "      <th>14</th>\n",
              "      <td>15.txt</td>\n",
              "      <td>1</td>\n",
              "      <td>1</td>\n",
              "      <td>0</td>\n",
              "      <td>0</td>\n",
              "      <td>0</td>\n",
              "      <td>1</td>\n",
              "      <td>0</td>\n",
              "      <td>0</td>\n",
              "      <td>0</td>\n",
              "      <td>0</td>\n",
              "      <td>0</td>\n",
              "      <td>0</td>\n",
              "      <td>0</td>\n",
              "      <td>0</td>\n",
              "      <td>0</td>\n",
              "      <td>0</td>\n",
              "      <td>0</td>\n",
              "    </tr>\n",
              "    <tr>\n",
              "      <th>15</th>\n",
              "      <td>16.txt</td>\n",
              "      <td>0</td>\n",
              "      <td>1</td>\n",
              "      <td>0</td>\n",
              "      <td>0</td>\n",
              "      <td>1</td>\n",
              "      <td>1</td>\n",
              "      <td>1</td>\n",
              "      <td>0</td>\n",
              "      <td>0</td>\n",
              "      <td>0</td>\n",
              "      <td>1</td>\n",
              "      <td>0</td>\n",
              "      <td>0</td>\n",
              "      <td>0</td>\n",
              "      <td>0</td>\n",
              "      <td>0</td>\n",
              "      <td>0</td>\n",
              "    </tr>\n",
              "    <tr>\n",
              "      <th>16</th>\n",
              "      <td>17.txt</td>\n",
              "      <td>0</td>\n",
              "      <td>1</td>\n",
              "      <td>0</td>\n",
              "      <td>0</td>\n",
              "      <td>1</td>\n",
              "      <td>1</td>\n",
              "      <td>1</td>\n",
              "      <td>0</td>\n",
              "      <td>0</td>\n",
              "      <td>0</td>\n",
              "      <td>1</td>\n",
              "      <td>0</td>\n",
              "      <td>0</td>\n",
              "      <td>0</td>\n",
              "      <td>0</td>\n",
              "      <td>0</td>\n",
              "      <td>0</td>\n",
              "    </tr>\n",
              "    <tr>\n",
              "      <th>17</th>\n",
              "      <td>18.txt</td>\n",
              "      <td>0</td>\n",
              "      <td>1</td>\n",
              "      <td>1</td>\n",
              "      <td>0</td>\n",
              "      <td>0</td>\n",
              "      <td>1</td>\n",
              "      <td>1</td>\n",
              "      <td>0</td>\n",
              "      <td>0</td>\n",
              "      <td>0</td>\n",
              "      <td>0</td>\n",
              "      <td>0</td>\n",
              "      <td>0</td>\n",
              "      <td>0</td>\n",
              "      <td>0</td>\n",
              "      <td>0</td>\n",
              "      <td>0</td>\n",
              "    </tr>\n",
              "    <tr>\n",
              "      <th>18</th>\n",
              "      <td>19.txt</td>\n",
              "      <td>1</td>\n",
              "      <td>1</td>\n",
              "      <td>0</td>\n",
              "      <td>1</td>\n",
              "      <td>1</td>\n",
              "      <td>1</td>\n",
              "      <td>1</td>\n",
              "      <td>0</td>\n",
              "      <td>0</td>\n",
              "      <td>0</td>\n",
              "      <td>0</td>\n",
              "      <td>0</td>\n",
              "      <td>0</td>\n",
              "      <td>0</td>\n",
              "      <td>1</td>\n",
              "      <td>0</td>\n",
              "      <td>0</td>\n",
              "    </tr>\n",
              "    <tr>\n",
              "      <th>19</th>\n",
              "      <td>20.txt</td>\n",
              "      <td>0</td>\n",
              "      <td>1</td>\n",
              "      <td>0</td>\n",
              "      <td>1</td>\n",
              "      <td>0</td>\n",
              "      <td>1</td>\n",
              "      <td>1</td>\n",
              "      <td>0</td>\n",
              "      <td>0</td>\n",
              "      <td>0</td>\n",
              "      <td>1</td>\n",
              "      <td>0</td>\n",
              "      <td>0</td>\n",
              "      <td>0</td>\n",
              "      <td>0</td>\n",
              "      <td>0</td>\n",
              "      <td>0</td>\n",
              "    </tr>\n",
              "  </tbody>\n",
              "</table>\n",
              "</div>"
            ],
            "text/plain": [
              "      Script  Fuck  Shit  Dick  Asshole  ...  Crikey  Rubbish  Shag  Wanker  Twawt\n",
              "0     1.txt      1     1     0        0  ...       0        0     0       0      1\n",
              "1     2.txt      1     1     0        0  ...       0        0     0       0      0\n",
              "2     3.txt      1     1     0        1  ...       0        0     1       0      0\n",
              "3     4.txt      0     0     0        1  ...       0        0     0       0      0\n",
              "4     5.txt      0     0     0        0  ...       0        0     0       0      0\n",
              "5     6.txt      0     0     0        0  ...       0        0     0       0      0\n",
              "6     7.txt      0     0     0        0  ...       0        0     0       0      0\n",
              "7     8.txt      0     0     0        0  ...       0        0     0       0      0\n",
              "8     9.txt      0     0     0        0  ...       0        0     0       0      0\n",
              "9    10.txt      1     1     0        0  ...       0        1     0       0      0\n",
              "10   11.txt      0     1     0        1  ...       0        0     0       0      0\n",
              "11   12.txt      1     1     0        1  ...       0        0     0       0      0\n",
              "12   13.txt      1     1     0        1  ...       0        0     1       0      0\n",
              "13   14.txt      0     1     1        0  ...       0        0     0       0      0\n",
              "14   15.txt      1     1     0        0  ...       0        0     0       0      0\n",
              "15   16.txt      0     1     0        0  ...       0        0     0       0      0\n",
              "16   17.txt      0     1     0        0  ...       0        0     0       0      0\n",
              "17   18.txt      0     1     1        0  ...       0        0     0       0      0\n",
              "18   19.txt      1     1     0        1  ...       0        0     1       0      0\n",
              "19   20.txt      0     1     0        1  ...       0        0     0       0      0\n",
              "\n",
              "[20 rows x 18 columns]"
            ]
          },
          "metadata": {
            "tags": []
          },
          "execution_count": 185
        }
      ]
    },
    {
      "cell_type": "code",
      "metadata": {
        "id": "cj-ztRl7FtfX",
        "colab_type": "code",
        "outputId": "3eff5cd2-dd25-4659-c7b8-cb15f0c6a905",
        "colab": {
          "base_uri": "https://localhost:8080/",
          "height": 89
        }
      },
      "source": [
        "same = df.pivot_table(index=['Fuck'], aggfunc='size')  # finding duplicates\n",
        "print(same)"
      ],
      "execution_count": 186,
      "outputs": [
        {
          "output_type": "stream",
          "text": [
            "Fuck\n",
            "0    12\n",
            "1     8\n",
            "dtype: int64\n"
          ],
          "name": "stdout"
        }
      ]
    },
    {
      "cell_type": "code",
      "metadata": {
        "id": "zsass11wmgaR",
        "colab_type": "code",
        "outputId": "4f93054d-1e68-4224-dfa1-98f8a959a51e",
        "colab": {
          "base_uri": "https://localhost:8080/",
          "height": 89
        }
      },
      "source": [
        "same = df.pivot_table(index=['Shit'], aggfunc='size')  # finding duplicates\n",
        "print(same)"
      ],
      "execution_count": 187,
      "outputs": [
        {
          "output_type": "stream",
          "text": [
            "Shit\n",
            "0     6\n",
            "1    14\n",
            "dtype: int64\n"
          ],
          "name": "stdout"
        }
      ]
    },
    {
      "cell_type": "code",
      "metadata": {
        "id": "_Qc3kEMTmgt6",
        "colab_type": "code",
        "outputId": "18130e2b-ee89-4aaf-c2c3-d04ec23aa4c0",
        "colab": {
          "base_uri": "https://localhost:8080/",
          "height": 89
        }
      },
      "source": [
        "same = df.pivot_table(index=['Dick'], aggfunc='size')  # finding duplicates\n",
        "print(same)"
      ],
      "execution_count": 0,
      "outputs": [
        {
          "output_type": "stream",
          "text": [
            "Dick\n",
            "0    18\n",
            "1     2\n",
            "dtype: int64\n"
          ],
          "name": "stdout"
        }
      ]
    },
    {
      "cell_type": "code",
      "metadata": {
        "id": "hehFoVHBmg9S",
        "colab_type": "code",
        "outputId": "591afcf3-82f3-4c13-e6f3-0a5ffee372a1",
        "colab": {
          "base_uri": "https://localhost:8080/",
          "height": 89
        }
      },
      "source": [
        "same = df.pivot_table(index=['Asshole'], aggfunc='size')  # finding duplicates\n",
        "print(same)"
      ],
      "execution_count": 0,
      "outputs": [
        {
          "output_type": "stream",
          "text": [
            "Asshole\n",
            "0    13\n",
            "1     7\n",
            "dtype: int64\n"
          ],
          "name": "stdout"
        }
      ]
    },
    {
      "cell_type": "code",
      "metadata": {
        "id": "fQvm90D4mhOf",
        "colab_type": "code",
        "outputId": "8fbbbae4-c19a-44db-89c6-c0fa2c090089",
        "colab": {
          "base_uri": "https://localhost:8080/",
          "height": 89
        }
      },
      "source": [
        "same = df.pivot_table(index=['Bastard'], aggfunc='size')  # finding duplicates\n",
        "print(same)"
      ],
      "execution_count": 0,
      "outputs": [
        {
          "output_type": "stream",
          "text": [
            "Bastard\n",
            "0    13\n",
            "1     7\n",
            "dtype: int64\n"
          ],
          "name": "stdout"
        }
      ]
    },
    {
      "cell_type": "code",
      "metadata": {
        "id": "_7couSlmmhhI",
        "colab_type": "code",
        "outputId": "3ecc8c32-ab7b-4054-fb6c-595bb3634ab3",
        "colab": {
          "base_uri": "https://localhost:8080/",
          "height": 89
        }
      },
      "source": [
        "same = df.pivot_table(index=['Bitch'], aggfunc='size')  # finding duplicates\n",
        "print(same)"
      ],
      "execution_count": 0,
      "outputs": [
        {
          "output_type": "stream",
          "text": [
            "Bitch\n",
            "0     9\n",
            "1    11\n",
            "dtype: int64\n"
          ],
          "name": "stdout"
        }
      ]
    },
    {
      "cell_type": "code",
      "metadata": {
        "id": "nS-EnAmbmhxN",
        "colab_type": "code",
        "outputId": "2657206d-6665-4e09-baf7-b0b0cdd7177d",
        "colab": {
          "base_uri": "https://localhost:8080/",
          "height": 89
        }
      },
      "source": [
        "same = df.pivot_table(index=['Damn'], aggfunc='size')  # finding duplicates\n",
        "print(same)"
      ],
      "execution_count": 0,
      "outputs": [
        {
          "output_type": "stream",
          "text": [
            "Damn\n",
            "0     6\n",
            "1    14\n",
            "dtype: int64\n"
          ],
          "name": "stdout"
        }
      ]
    },
    {
      "cell_type": "code",
      "metadata": {
        "id": "r88BxqPTnAAZ",
        "colab_type": "code",
        "outputId": "bf5bb40d-0981-4152-eee8-39189ee63bf8",
        "colab": {
          "base_uri": "https://localhost:8080/",
          "height": 89
        }
      },
      "source": [
        "same = df.pivot_table(index=['Cunt'], aggfunc='size')  # finding duplicates\n",
        "print(same)"
      ],
      "execution_count": 0,
      "outputs": [
        {
          "output_type": "stream",
          "text": [
            "Cunt\n",
            "0    18\n",
            "1     2\n",
            "dtype: int64\n"
          ],
          "name": "stdout"
        }
      ]
    },
    {
      "cell_type": "code",
      "metadata": {
        "id": "FMpaxUk4nAPZ",
        "colab_type": "code",
        "outputId": "f4f325fc-6d4c-4e20-bc4a-213e9fe21478",
        "colab": {
          "base_uri": "https://localhost:8080/",
          "height": 71
        }
      },
      "source": [
        "same = df.pivot_table(index=['Bollocks'], aggfunc='size')  # finding duplicates\n",
        "print(same)"
      ],
      "execution_count": 0,
      "outputs": [
        {
          "output_type": "stream",
          "text": [
            "Bollocks\n",
            "0    20\n",
            "dtype: int64\n"
          ],
          "name": "stdout"
        }
      ]
    },
    {
      "cell_type": "code",
      "metadata": {
        "id": "SDHbKLxbnAzk",
        "colab_type": "code",
        "outputId": "c096e6d4-c185-4be3-e62e-303d53cffb4c",
        "colab": {
          "base_uri": "https://localhost:8080/",
          "height": 71
        }
      },
      "source": [
        "same = df.pivot_table(index=['Bugger'], aggfunc='size')  # finding duplicates\n",
        "print(same)"
      ],
      "execution_count": 0,
      "outputs": [
        {
          "output_type": "stream",
          "text": [
            "Bugger\n",
            "0    20\n",
            "dtype: int64\n"
          ],
          "name": "stdout"
        }
      ]
    },
    {
      "cell_type": "code",
      "metadata": {
        "id": "A3DaZB73nA__",
        "colab_type": "code",
        "outputId": "995fcf96-fe3f-4f5c-d5ae-db7e27ddc0d6",
        "colab": {
          "base_uri": "https://localhost:8080/",
          "height": 89
        }
      },
      "source": [
        "same = df.pivot_table(index=['Bloody hell'], aggfunc='size')  # finding duplicates\n",
        "print(same)"
      ],
      "execution_count": 0,
      "outputs": [
        {
          "output_type": "stream",
          "text": [
            "Bloody hell\n",
            "0    10\n",
            "1    10\n",
            "dtype: int64\n"
          ],
          "name": "stdout"
        }
      ]
    },
    {
      "cell_type": "code",
      "metadata": {
        "id": "9KDAzI8TnBP8",
        "colab_type": "code",
        "outputId": "5d32fcec-c086-4288-ac04-9dbff3957ed2",
        "colab": {
          "base_uri": "https://localhost:8080/",
          "height": 71
        }
      },
      "source": [
        "same = df.pivot_table(index=['Choad'], aggfunc='size')  # finding duplicates\n",
        "print(same)"
      ],
      "execution_count": 0,
      "outputs": [
        {
          "output_type": "stream",
          "text": [
            "Choad\n",
            "0    20\n",
            "dtype: int64\n"
          ],
          "name": "stdout"
        }
      ]
    },
    {
      "cell_type": "code",
      "metadata": {
        "id": "bsTbITpfnMTu",
        "colab_type": "code",
        "outputId": "d5403a92-4edc-45b3-aa8b-fdc856c68e2c",
        "colab": {
          "base_uri": "https://localhost:8080/",
          "height": 71
        }
      },
      "source": [
        "same = df.pivot_table(index=['Crikey'], aggfunc='size')  # finding duplicates\n",
        "print(same)"
      ],
      "execution_count": 0,
      "outputs": [
        {
          "output_type": "stream",
          "text": [
            "Crikey\n",
            "0    20\n",
            "dtype: int64\n"
          ],
          "name": "stdout"
        }
      ]
    },
    {
      "cell_type": "code",
      "metadata": {
        "id": "nafGMrb3nMfT",
        "colab_type": "code",
        "outputId": "a3c535ed-d20c-4295-bc47-c4e36657a808",
        "colab": {
          "base_uri": "https://localhost:8080/",
          "height": 89
        }
      },
      "source": [
        "same = df.pivot_table(index=['Rubbish'], aggfunc='size')  # finding duplicates\n",
        "print(same)"
      ],
      "execution_count": 0,
      "outputs": [
        {
          "output_type": "stream",
          "text": [
            "Rubbish\n",
            "0    19\n",
            "1     1\n",
            "dtype: int64\n"
          ],
          "name": "stdout"
        }
      ]
    },
    {
      "cell_type": "code",
      "metadata": {
        "id": "7hkUGkDynMrn",
        "colab_type": "code",
        "outputId": "78c17bab-3bcc-45b2-fd68-41352b861050",
        "colab": {
          "base_uri": "https://localhost:8080/",
          "height": 89
        }
      },
      "source": [
        "same = df.pivot_table(index=['Shag'], aggfunc='size')  # finding duplicates\n",
        "print(same)"
      ],
      "execution_count": 0,
      "outputs": [
        {
          "output_type": "stream",
          "text": [
            "Shag\n",
            "0    17\n",
            "1     3\n",
            "dtype: int64\n"
          ],
          "name": "stdout"
        }
      ]
    },
    {
      "cell_type": "code",
      "metadata": {
        "id": "loC-wGzZnM9w",
        "colab_type": "code",
        "outputId": "882ef489-1c82-4a51-e18b-8056604900e5",
        "colab": {
          "base_uri": "https://localhost:8080/",
          "height": 71
        }
      },
      "source": [
        "same = df.pivot_table(index=['Wanker'], aggfunc='size')  # finding duplicates\n",
        "print(same)"
      ],
      "execution_count": 0,
      "outputs": [
        {
          "output_type": "stream",
          "text": [
            "Wanker\n",
            "0    20\n",
            "dtype: int64\n"
          ],
          "name": "stdout"
        }
      ]
    },
    {
      "cell_type": "code",
      "metadata": {
        "id": "HMfl6BYhnVK6",
        "colab_type": "code",
        "outputId": "6abaaf72-b98d-425d-98f5-6fc55d47cd21",
        "colab": {
          "base_uri": "https://localhost:8080/",
          "height": 89
        }
      },
      "source": [
        "same = df.pivot_table(index=['Twawt'], aggfunc='size')  # finding duplicates\n",
        "print(same)"
      ],
      "execution_count": 0,
      "outputs": [
        {
          "output_type": "stream",
          "text": [
            "Twawt\n",
            "0    19\n",
            "1     1\n",
            "dtype: int64\n"
          ],
          "name": "stdout"
        }
      ]
    },
    {
      "cell_type": "markdown",
      "metadata": {
        "id": "rQzQdkNioBR8",
        "colab_type": "text"
      },
      "source": [
        "# Precision , Recall, F-Score"
      ]
    },
    {
      "cell_type": "markdown",
      "metadata": {
        "id": "1q3SujfOdAE5",
        "colab_type": "text"
      },
      "source": [
        "\n",
        "\n",
        "*   Since, my dataset have already been s\n",
        "\n",
        "\n"
      ]
    },
    {
      "cell_type": "code",
      "metadata": {
        "id": "g5yGGUJwVUZ_",
        "colab_type": "code",
        "outputId": "f579e10b-dadd-4480-d5a8-b843647dda79",
        "colab": {
          "base_uri": "https://localhost:8080/",
          "height": 1000
        }
      },
      "source": [
        "Precision_Fuck =   8 / 20;          # Precision = No. of relevant documents retrieved / No. of total documents retrieved\n",
        "Recall_Fuck =  8 /20;               # Recall = No. of relevant documents retrieved / No. of total relevant documents\n",
        "F_Score_Fuck = 2* Precision_Fuck * Recall_Fuck / Precision_Fuck + Recall_Fuck \n",
        "print('Fuck :') \n",
        "print('Precision :' ,format(Precision_Fuck,\"%\"))\n",
        "print('Recall :',format(Recall_Fuck,\"%\"))\n",
        "print('F_Score :', round(F_Score_Fuck))\n",
        "print('-----------------')\n",
        "print('Shit :') \n",
        "Precision_Shit =   14 / 20;          \n",
        "Recall_Shit =  14 /20;              \n",
        "F_Score_Shit = 2* Precision_Shit * Recall_Shit / Precision_Shit + Recall_Shit  \n",
        "print('Precision :' ,format(Precision_Shit,\"%\"))\n",
        "print('Recall :',format(Recall_Shit,\"%\"))\n",
        "print('F_Score :', round(F_Score_Shit))\n",
        "print('-----------------')\n",
        "print('Dick :') \n",
        "Precision_Dick = 2/ 20;          \n",
        "Recall_Dick = 2/20;              \n",
        "F_Score_Dick = 2* Precision_Dick * Recall_Dick / Precision_Dick + Recall_Dick  \n",
        "print('Precision :' ,format(Precision_Dick,\"%\"))\n",
        "print('Recall :',format(Recall_Dick,\"%\"))\n",
        "print('F_Score :', round(F_Score_Dick))\n",
        "print('-----------------')\n",
        "print('Asshole :') \n",
        "Precision_Asshole =  7/ 20;          \n",
        "Recall_Asshole = 7/20;              \n",
        "F_Score_Asshole = 2* Precision_Asshole * Recall_Asshole / Precision_Asshole + Recall_Asshole \n",
        "print('Precision :' ,format(Precision_Asshole,\"%\"))\n",
        "print('Recall :',format(Recall_Asshole,\"%\"))\n",
        "print('F_Score :', round(F_Score_Asshole))\n",
        "print('-----------------')\n",
        "print('Bastard :') \n",
        "Precision_Bastard =  7/ 20;          \n",
        "Recall_Bastard = 7/20;              \n",
        "F_Score_Bastard = 2* Precision_Bastard * Recall_Bastard / Precision_Bastard + Recall_Bastard  \n",
        "print('Precision :' ,format(Precision_Bastard,\"%\"))\n",
        "print('Recall :',format(Recall_Bastard,\"%\"))\n",
        "print('F_Score :', round(F_Score_Bastard))\n",
        "print('-----------------')\n",
        "print('Bitch :') \n",
        "Precision_Bitch =  11/ 20;          \n",
        "Recall_Bitch = 11/20;              \n",
        "F_Score_Bitch = 2* Precision_Bitch * Recall_Bitch  / Precision_Bitch + Recall_Bitch  \n",
        "print('Precision :' ,format(Precision_Bitch,\"%\"))\n",
        "print('Recall :',format(Recall_Bitch,\"%\"))\n",
        "print('F_Score :', round(F_Score_Bitch))\n",
        "print('-----------------')\n",
        "print('Damn :') \n",
        "Precision_Damn =  14/ 20;          \n",
        "Recall_Damn = 14/20;              \n",
        "F_Score_Damn = 2* Precision_Damn * Recall_Damn / Precision_Damn + Recall_Damn  \n",
        "print('Precision :' ,format(Precision_Damn,\"%\"))\n",
        "print('Recall :',format(Recall_Damn,\"%\"))\n",
        "print('F_Score :', round(F_Score_Damn))\n",
        "print('-----------------')\n",
        "print('Cunt :') \n",
        "Precision_Cunt =  2/ 20;          \n",
        "Recall_Cunt = 2/20;              \n",
        "F_Score_Cunt = 2* Precision_Cunt * Recall_Cunt / Precision_Cunt + Recall_Cunt  \n",
        "print('Precision :' ,format(Precision_Cunt,\"%\"))\n",
        "print('Recall :',format(Recall_Cunt,\"%\"))\n",
        "print('F_Score :', round(F_Score_Cunt))\n",
        "print('-----------------')\n",
        "print('Bloody Hell :') \n",
        "Precision_BloodyHell = 10/ 20;          \n",
        "Recall_BloodyHell = 10/20;              \n",
        "F_Score_BloodyHell = 2* Precision_BloodyHell * Recall_BloodyHell / Precision_BloodyHell + Recall_BloodyHell  \n",
        "print('Precision :' ,format(Precision_BloodyHell,\"%\"))\n",
        "print('Recall :',format(Recall_BloodyHell,\"%\"))\n",
        "print('F_Score :', round(F_Score_BloodyHell))\n",
        "print('-----------------')\n",
        "print('Rubbish :') \n",
        "Precision_Rubbish = 1 / 20;          \n",
        "Recall_Rubbish = 1/20;              \n",
        "F_Score_Rubbish = 2* Precision_Rubbish * Recall_Rubbish / Precision_Rubbish + Recall_Rubbish  \n",
        "print('Precision :' ,format(Precision_Rubbish,\"%\"))\n",
        "print('Recall :',format(Recall_Rubbish,\"%\"))\n",
        "print('F_Score :', round(F_Score_Rubbish))\n",
        "print('-----------------')\n",
        "print('Shag :') \n",
        "Precision_Shag =  3/ 20;          \n",
        "Recall_Shag = 3/20;              \n",
        "F_Score_Shag = 2* Precision_Shag * Recall_Shag / Precision_Shag + Recall_Shag  \n",
        "print('Precision :' ,format(Precision_Shag,\"%\"))\n",
        "print('Recall :',format(Recall_Shag,\"%\"))\n",
        "print('F_Score :', round(F_Score_Shag))\n",
        "print('-----------------')\n",
        "print('Twawt :') \n",
        "Precision_Twawt =  1/ 20;          \n",
        "Recall_Twawt = 1/20;              \n",
        "F_Score_Twawt = 2* Precision_Twawt * Recall_Twawt / Precision_Twawt + Recall_Twawt  \n",
        "print('Precision :' ,format(Precision_Twawt,\"%\"))\n",
        "print('Recall :',format(Recall_Twawt,\"%\"))\n",
        "print('F_Score :', round(F_Score_Twawt))\n"
      ],
      "execution_count": 194,
      "outputs": [
        {
          "output_type": "stream",
          "text": [
            "Fuck :\n",
            "Precision : 40.000000%\n",
            "Recall : 40.000000%\n",
            "F_Score : 1\n",
            "-----------------\n",
            "Shit :\n",
            "Precision : 70.000000%\n",
            "Recall : 70.000000%\n",
            "F_Score : 2\n",
            "-----------------\n",
            "Dick :\n",
            "Precision : 10.000000%\n",
            "Recall : 10.000000%\n",
            "F_Score : 0\n",
            "-----------------\n",
            "Asshole :\n",
            "Precision : 35.000000%\n",
            "Recall : 35.000000%\n",
            "F_Score : 1\n",
            "-----------------\n",
            "Bastard :\n",
            "Precision : 35.000000%\n",
            "Recall : 35.000000%\n",
            "F_Score : 1\n",
            "-----------------\n",
            "Bitch :\n",
            "Precision : 55.000000%\n",
            "Recall : 55.000000%\n",
            "F_Score : 2\n",
            "-----------------\n",
            "Damn :\n",
            "Precision : 70.000000%\n",
            "Recall : 70.000000%\n",
            "F_Score : 2\n",
            "-----------------\n",
            "Cunt :\n",
            "Precision : 10.000000%\n",
            "Recall : 10.000000%\n",
            "F_Score : 0\n",
            "-----------------\n",
            "Bloody Hell :\n",
            "Precision : 50.000000%\n",
            "Recall : 50.000000%\n",
            "F_Score : 2\n",
            "-----------------\n",
            "Rubbish :\n",
            "Precision : 5.000000%\n",
            "Recall : 5.000000%\n",
            "F_Score : 0\n",
            "-----------------\n",
            "Shag :\n",
            "Precision : 15.000000%\n",
            "Recall : 15.000000%\n",
            "F_Score : 0\n",
            "-----------------\n",
            "Twawt :\n",
            "Precision : 5.000000%\n",
            "Recall : 5.000000%\n",
            "F_Score : 0\n"
          ],
          "name": "stdout"
        }
      ]
    },
    {
      "cell_type": "markdown",
      "metadata": {
        "id": "6nlrPnlH5TZ6",
        "colab_type": "text"
      },
      "source": [
        "# Average Precision"
      ]
    },
    {
      "cell_type": "markdown",
      "metadata": {
        "id": "XHUC8ZAz5X5M",
        "colab_type": "text"
      },
      "source": [
        "\n",
        "\n",
        "*   Rank 1 : Precision Score  above or equal to 50 % \n",
        "*   Rank 2 : Precision Score below 50 %\n",
        "\n",
        "\n",
        "\n",
        "\n"
      ]
    },
    {
      "cell_type": "code",
      "metadata": {
        "id": "OjdrB5Qe53hx",
        "colab_type": "code",
        "colab": {
          "base_uri": "https://localhost:8080/",
          "height": 53
        },
        "outputId": "a39142af-b99c-4fa9-e491-fcf38aa011e9"
      },
      "source": [
        "Rank1_AvgP = (0.7+0.55+0.5) / 20\n",
        "print('Rank_1_AvgP :',format(Rank1_AvgP,\"%\"))\n",
        "Rank2_AvgP = (0.4+0.1+0.35+0.35+0.1+0.05+0.15+0.05) / 20\n",
        "print('Rank_2_AvgP :', format(Rank2_AvgP,\"%\"))"
      ],
      "execution_count": 201,
      "outputs": [
        {
          "output_type": "stream",
          "text": [
            "Rank_1_AvgP : 8.750000%\n",
            "Rank_2_AvgP : 7.750000%\n"
          ],
          "name": "stdout"
        }
      ]
    },
    {
      "cell_type": "markdown",
      "metadata": {
        "id": "nZ85ZYca8_pN",
        "colab_type": "text"
      },
      "source": [
        "# Mean Average Precision (MAP)"
      ]
    },
    {
      "cell_type": "markdown",
      "metadata": {
        "id": "dymyG_7v9y_S",
        "colab_type": "text"
      },
      "source": [
        "\n",
        "\n",
        "\n",
        "*   Total Queries = 17\n",
        "\n",
        "\n",
        "\n",
        "---\n",
        "\n",
        "*   Fuck = 40 %\n",
        "*   Shit = 70 %\n",
        "*   Dick = 10 %\n",
        "*   Asshole = 35 %\n",
        "*   Bastard = 35 %\n",
        "*   Bitch = 55 %\n",
        "*   Damn = 70 %\n",
        "*   Cunt = 10 %\n",
        "*   Blood Hell = 50 %\n",
        "*   Rubbish = 5 %\n",
        "*   Shag = 15 %\n",
        "*   Twawt = 5 %\n"
      ]
    },
    {
      "cell_type": "code",
      "metadata": {
        "id": "SfkZUCAd9EOR",
        "colab_type": "code",
        "colab": {
          "base_uri": "https://localhost:8080/",
          "height": 35
        },
        "outputId": "109d9617-8c93-4baf-f5f4-06fc415d66c0"
      },
      "source": [
        "Mean_AvgP = (0.4+0.7+0.1+0.35+0.35+0.55+0.7+0.1+0.5+0.05+0.15+0.05) / 17\n",
        "print('Mean_AvgP :',format(Mean_AvgP,\"%\"))"
      ],
      "execution_count": 206,
      "outputs": [
        {
          "output_type": "stream",
          "text": [
            "Mean_AvgP : 23.529412%\n"
          ],
          "name": "stdout"
        }
      ]
    }
  ]
}